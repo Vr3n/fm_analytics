{
 "cells": [
  {
   "cell_type": "markdown",
   "id": "43be7ceb-db3a-4197-ad2c-d53a7a9c9624",
   "metadata": {},
   "source": [
    "https://community.sigames.com/forums/topic/513885-column-headers/"
   ]
  },
  {
   "cell_type": "markdown",
   "id": "5298d8d1-9ead-46d5-9364-a9436fbf8a8b",
   "metadata": {},
   "source": [
    "## Dulwich Hamlet Squad Assesment"
   ]
  },
  {
   "cell_type": "code",
   "execution_count": 1,
   "id": "89733967-94ff-4035-baf1-112ad00413b0",
   "metadata": {},
   "outputs": [],
   "source": [
    "import pandas as pd\n",
    "import numpy as np\n",
    "import seaborn as sns\n",
    "from IPython.display import display, HTML\n",
    "import plotly.express as px\n",
    "import plotly.io as pio\n",
    "# pio.renderers.default = 'colab'"
   ]
  },
  {
   "cell_type": "markdown",
   "id": "90be4567-7ebf-455f-8403-2104294e21a6",
   "metadata": {},
   "source": [
    "### Helper Function TO display scrollable Dataframe."
   ]
  },
  {
   "cell_type": "code",
   "execution_count": 2,
   "id": "4727ff63-afe9-456a-bfb1-f7ff43fdb723",
   "metadata": {},
   "outputs": [],
   "source": [
    "def display_scrollable_dataframe(dataframe):\n",
    "    # Create an HTML representation of the DataFrame\n",
    "    html_output = dataframe.to_html()\n",
    "\n",
    "    # Display the HTML output\n",
    "    display(HTML(html_output))"
   ]
  },
  {
   "cell_type": "markdown",
   "id": "25c612b5-8734-4578-8038-0cc6e4b6b3be",
   "metadata": {},
   "source": [
    "### Importing the dataset."
   ]
  },
  {
   "cell_type": "code",
   "execution_count": null,
   "id": "dfffe36e-e70a-4365-8fb4-2eac5ce698d5",
   "metadata": {},
   "outputs": [],
   "source": [
    "squad_df = pd.read_html('dulwich_hamlet_squad_end_of_searson_2022_2023.html')[0]"
   ]
  },
  {
   "cell_type": "code",
   "execution_count": null,
   "id": "a6fe28dc-dca5-41b0-8584-0f8bec736274",
   "metadata": {},
   "outputs": [],
   "source": [
    "display_scrollable_dataframe(squad_df.head())"
   ]
  },
  {
   "cell_type": "markdown",
   "id": "6d95be3f-552b-4556-9e0e-feeead452531",
   "metadata": {},
   "source": [
    "### Column names of the dataset."
   ]
  },
  {
   "cell_type": "code",
   "execution_count": null,
   "id": "33d930b3-fed3-4f23-9c20-1aeaf41bdab4",
   "metadata": {},
   "outputs": [],
   "source": [
    "squad_df.columns"
   ]
  },
  {
   "cell_type": "markdown",
   "id": "b55c9c44-cb1a-4e09-b4b1-9a54a8a06dff",
   "metadata": {},
   "source": [
    "### Removing NAN Columns"
   ]
  },
  {
   "cell_type": "code",
   "execution_count": null,
   "id": "c6f5312e-6244-4baf-aaae-775fece33a18",
   "metadata": {},
   "outputs": [],
   "source": [
    "nan_percentage = (squad_df.isna().sum() / len(squad_df)) * 100\n",
    "# Create a new DataFrame to display the results\n",
    "nan_info = pd.DataFrame({\n",
    "    'Column': squad_df.columns,\n",
    "    'NaN Percentage': nan_percentage\n",
    "})\n",
    "\n",
    "# Sort the DataFrame by NaN Percentage in descending order\n",
    "nan_info = nan_info.sort_values(by='NaN Percentage', ascending=False)"
   ]
  },
  {
   "cell_type": "code",
   "execution_count": null,
   "id": "c16b70f2-ef9c-4278-b9f5-9a41f1fdab32",
   "metadata": {},
   "outputs": [],
   "source": [
    "squad_df = squad_df.drop(columns=['Ability','Injury Risk', 'SHP', 'CON', 'Fatigue', 'Inf', 'Position Selected'])"
   ]
  },
  {
   "cell_type": "markdown",
   "id": "442b549e-c626-4d91-995d-96a5e195ecb1",
   "metadata": {},
   "source": [
    "### Data Type of the Dataframe Columns."
   ]
  },
  {
   "cell_type": "code",
   "execution_count": null,
   "id": "d2ec2012-d2d1-4a60-ba33-fe37e5e927b7",
   "metadata": {},
   "outputs": [],
   "source": [
    "df_data_type = squad_df.dtypes.to_frame(name='Data Type').reset_index().rename(columns={'index': 'Column'})"
   ]
  },
  {
   "cell_type": "code",
   "execution_count": null,
   "id": "053d0acd-f018-4a50-8b29-0a7719868d23",
   "metadata": {
    "scrolled": true
   },
   "outputs": [],
   "source": [
    "display_scrollable_dataframe(df_data_type)"
   ]
  },
  {
   "cell_type": "markdown",
   "id": "ef8b744e-5773-4126-9a89-bdc8b4dff0aa",
   "metadata": {},
   "source": [
    "### Cleaning up Number of Appearances.\n",
    "\n",
    "The Appearances is showed in multiple ways. \n",
    "1. If player has no subtitute appearance then apps are shown as: 30.\n",
    "2. If player has substitute appearance then apps are shown as: 30 (5) -> Where 30 is first team appearance and 5 is the appearance as a substitute."
   ]
  },
  {
   "cell_type": "markdown",
   "id": "50ace571-b50e-49ff-9420-0a33b51f2c40",
   "metadata": {},
   "source": [
    "- Split the appearance by (5) if it exists. then extract a number from brackets.\n",
    "- We can also use regex for more robust cleaning."
   ]
  },
  {
   "cell_type": "markdown",
   "id": "f378c77d-51f0-413e-a148-e81050cfc80e",
   "metadata": {},
   "source": [
    "#### Extracting the values using regular expressions.\n",
    "\n",
    "Extracting the values, splitting them into two parts.\n",
    "1. First Value goes to \"Apps\".\n",
    "2. Second Value goes to \"Substitute_Apps\".\n",
    "3. Convert the values from str to numeric.\n",
    "4. if the \"Substitute_Apps\" have NaN value then convert it to 0."
   ]
  },
  {
   "cell_type": "code",
   "execution_count": null,
   "id": "e373734e-9549-4425-b233-c883ae53ea35",
   "metadata": {},
   "outputs": [],
   "source": [
    "squad_df[['Apps', 'Substitute_Apps']] = squad_df['Apps'].str.extract(r'(\\d+)(?: (\\d+)(\\d+))?')"
   ]
  },
  {
   "cell_type": "markdown",
   "id": "082574b1-bc37-4742-a925-882bcb211bfc",
   "metadata": {},
   "source": [
    "### Cleanup numerical values with units.\n",
    "\n",
    "Some columns contain values with units in it. for e.g (Km, M, p/w, cm)"
   ]
  },
  {
   "cell_type": "markdown",
   "id": "fa01061d-a488-4f39-94c3-5c8a723fb750",
   "metadata": {},
   "source": [
    "1. Height - cm\n",
    "2. Distance, Dist/90 - Km"
   ]
  },
  {
   "cell_type": "code",
   "execution_count": null,
   "id": "3f0f9031-26a3-4388-b39f-68908f002329",
   "metadata": {
    "scrolled": true
   },
   "outputs": [],
   "source": [
    "squad_df['Height'] = squad_df['Height'].str.extract('(\\d+)').astype(float)"
   ]
  },
  {
   "cell_type": "code",
   "execution_count": null,
   "id": "caab44de-969d-4378-9950-6108b03eaca3",
   "metadata": {},
   "outputs": [],
   "source": [
    "squad_df['Distance'] = squad_df['Distance'].str.extract('(\\d+)').astype(float)"
   ]
  },
  {
   "cell_type": "code",
   "execution_count": null,
   "id": "05540a84-3612-4550-add3-a2595c1e2417",
   "metadata": {},
   "outputs": [],
   "source": [
    "squad_df['Dist/90'] = squad_df['Dist/90'].str.extract('(\\d+)').astype(float)"
   ]
  },
  {
   "cell_type": "markdown",
   "id": "c809ad72-8f7c-4c4f-b8b3-1d07f725b4ed",
   "metadata": {},
   "source": [
    "## Cleaning up Wage data.\n",
    "\n",
    "The wage data contains special characters. Extract the number from the wage."
   ]
  },
  {
   "cell_type": "code",
   "execution_count": null,
   "id": "202b1ff8-cd2d-4b19-a202-aafc5df72782",
   "metadata": {},
   "outputs": [],
   "source": [
    "squad_df['Wage'] = squad_df['Wage'].str.extract('(\\d+)').astype(float)"
   ]
  },
  {
   "cell_type": "markdown",
   "id": "85384768-19a0-4a40-95c8-0ec5a190907f",
   "metadata": {},
   "source": [
    "#### To numeric\n",
    "\n",
    "Converting the columns to numeric values."
   ]
  },
  {
   "cell_type": "code",
   "execution_count": null,
   "id": "9cff75cc-c1f6-4347-973a-fef8258ade25",
   "metadata": {},
   "outputs": [],
   "source": [
    "numeric_cols = squad_df.select_dtypes(include='object').apply(pd.to_numeric, errors='coerce').dropna(axis=1, how='all')"
   ]
  },
  {
   "cell_type": "code",
   "execution_count": null,
   "id": "ad8a1b44-a539-408e-add2-db6d9bd68e35",
   "metadata": {},
   "outputs": [],
   "source": [
    "squad_df[numeric_cols.columns] = numeric_cols"
   ]
  },
  {
   "cell_type": "markdown",
   "id": "8093b17e-7570-4fda-a382-0736c26c705b",
   "metadata": {},
   "source": [
    "### Percentage Values\n",
    "\n",
    "Refactoring the percentage values to numeric. (95% -> 0.95)"
   ]
  },
  {
   "cell_type": "markdown",
   "id": "d558ec0d-8a6e-4d05-9689-c0793fc3dafc",
   "metadata": {},
   "source": [
    "##### Detect the columns with percentage values as string (95%)."
   ]
  },
  {
   "cell_type": "code",
   "execution_count": null,
   "id": "86323c54-19ab-4860-b3d8-3f2de040a0b8",
   "metadata": {},
   "outputs": [],
   "source": [
    "## Helper function for detecting the columns with percentage values.\n",
    "def detect_percentage_columns(dataframe):\n",
    "    percentage_columns = []\n",
    "\n",
    "    for column in dataframe.columns:\n",
    "        if dataframe[column].dtype == 'O':  # Check if the column contains object (string) type\n",
    "            # Use a regular expression to detect percentage values in the form of '90%' or '90 %'\n",
    "            if dataframe[column].str.match(r'\\b\\d+\\s*%').any():\n",
    "                percentage_columns.append(column)\n",
    "\n",
    "    return percentage_columns"
   ]
  },
  {
   "cell_type": "markdown",
   "id": "984f4771-bdf1-442f-86b5-a18673d5a9de",
   "metadata": {},
   "source": [
    "##### Convert the percentage values."
   ]
  },
  {
   "cell_type": "code",
   "execution_count": null,
   "id": "c46f1d49-0422-478f-bf8d-7760bb2e5a08",
   "metadata": {},
   "outputs": [],
   "source": [
    "def convert_percentage_to_numeric(dataframe):\n",
    "    for column in dataframe.columns:\n",
    "        dataframe.loc[:, column] = pd.to_numeric(dataframe[column].str.strip('%'), errors='coerce').fillna(0) / 100\n",
    "\n",
    "    return dataframe"
   ]
  },
  {
   "cell_type": "code",
   "execution_count": null,
   "id": "3bddf98a-e9f0-41e3-8545-b2fed1d5c706",
   "metadata": {},
   "outputs": [],
   "source": [
    "percentage_columns = detect_percentage_columns(squad_df)"
   ]
  },
  {
   "cell_type": "code",
   "execution_count": null,
   "id": "a06205be-cdb8-48bd-a2f8-3df669748073",
   "metadata": {},
   "outputs": [],
   "source": [
    "squad_df.loc[:, percentage_columns] = convert_percentage_to_numeric(squad_df[percentage_columns])"
   ]
  },
  {
   "cell_type": "markdown",
   "id": "03115125-f386-4eb8-ae5b-ebad79552c62",
   "metadata": {},
   "source": [
    "### Handling NAN data\n",
    "\n",
    "The numerical data contains NaN we will convert the NaN to 0 / 0.0"
   ]
  },
  {
   "cell_type": "code",
   "execution_count": null,
   "id": "2be192d7-b3f2-4b01-804b-24c8e7fc99ef",
   "metadata": {
    "scrolled": true
   },
   "outputs": [],
   "source": [
    "nan_percentage = (squad_df.isna().sum() / len(squad_df)) * 100\n",
    "nan_percentage_series = pd.DataFrame(nan_percentage)\n",
    "display_scrollable_dataframe(nan_percentage_series)"
   ]
  },
  {
   "cell_type": "code",
   "execution_count": null,
   "id": "fd3d24bb-f8d6-476c-a8ff-797de042a571",
   "metadata": {},
   "outputs": [],
   "source": [
    "squad_df[squad_df.select_dtypes(include=['float']).columns] = squad_df.select_dtypes(include=['float']).fillna(0.0)\n",
    "squad_df[squad_df.select_dtypes(include=['int64']).columns] = squad_df.select_dtypes(include=['int64']).fillna(0)"
   ]
  },
  {
   "cell_type": "markdown",
   "id": "711e7968-895b-40ad-bc06-8f5917d9e183",
   "metadata": {},
   "source": [
    "### Calculating the DNA score of the player.\n",
    "\n",
    "The main attributes (DNA) of our tactics are:\n",
    "1. Technical\n",
    "2. Anticipation\n",
    "3. Off the ball\n",
    "4. Passing\n",
    "5. Composure\n",
    "6. First Touch\n",
    "7. Work rate\n",
    "8. Vision\n",
    "9. Positioning\n",
    "10. Decision Making\n",
    "11. Team work\n",
    "12. Concentration"
   ]
  },
  {
   "cell_type": "code",
   "execution_count": null,
   "id": "dbc2d540-b7c5-47bc-a78e-1db54351c01a",
   "metadata": {},
   "outputs": [],
   "source": [
    "dna_attribs = ['Tec', 'Ant', 'OtB', 'Pas', 'Cmp', 'Fir', 'Wor', 'Vis', 'Pos', 'Dec', 'Tea', 'Cnt']\n",
    "\n",
    "len(dna_attribs)"
   ]
  },
  {
   "cell_type": "code",
   "execution_count": null,
   "id": "99e48630-2318-4b41-a0a1-e7e0cf1034db",
   "metadata": {},
   "outputs": [],
   "source": [
    "total_dna_score = 20 * len(dna_attribs)"
   ]
  },
  {
   "cell_type": "code",
   "execution_count": null,
   "id": "660e3a7a-343e-4f7d-ba4e-304a1c29527b",
   "metadata": {},
   "outputs": [],
   "source": [
    "squad_df[dna_attribs].sum(axis=1) / total_dna_score * 100"
   ]
  },
  {
   "cell_type": "code",
   "execution_count": null,
   "id": "54286efd-7bed-43a1-b418-24c952db92e4",
   "metadata": {},
   "outputs": [],
   "source": [
    "squad_df = pd.concat([squad_df, pd.DataFrame({'dna_score': squad_dna_score})], axis=1)"
   ]
  },
  {
   "cell_type": "code",
   "execution_count": null,
   "id": "c89dff9a-d184-40b7-aca9-61873af84e2a",
   "metadata": {},
   "outputs": [],
   "source": [
    "squad_df.loc['dna_score'] = squad_dna_score "
   ]
  },
  {
   "cell_type": "markdown",
   "id": "dfacb39a-a0ee-4979-9eb7-dde8cbc971a3",
   "metadata": {},
   "source": [
    "## Exploring the Data"
   ]
  },
  {
   "cell_type": "markdown",
   "id": "5a8c36c1-2039-4ebd-8b06-d37b27361e24",
   "metadata": {},
   "source": [
    "Squad DNA score vs the Age."
   ]
  },
  {
   "cell_type": "code",
   "execution_count": null,
   "id": "a8e8caed-7763-4f29-bc21-36195d503f69",
   "metadata": {},
   "outputs": [],
   "source": [
    "fig = px.scatter(squad_df, 'dna_score', 'Age', hover_data=['Name', 'Position'], text=\"Name\", width=1200, height=600)\n",
    "fig.update_traces(textposition='top center', textfont_size=10)\n",
    "fig.update_layout(\n",
    "    title_text='Age V/s DNa score',\n",
    "     \n",
    ")\n",
    "fig.show()"
   ]
  },
  {
   "cell_type": "code",
   "execution_count": null,
   "id": "3077eeb8-bcb6-462d-8822-2cc368f8e0d0",
   "metadata": {},
   "outputs": [],
   "source": [
    "players_by_dna_score_df = squad_df[['Name', 'Position', 'dna_score']].sort_values(by=['dna_score'], ascending=False)"
   ]
  },
  {
   "cell_type": "code",
   "execution_count": null,
   "id": "414935da-45f9-4d41-bea0-a0853839a940",
   "metadata": {},
   "outputs": [],
   "source": [
    "players_by_dna_score_df.tail(10)"
   ]
  },
  {
   "cell_type": "markdown",
   "id": "c8c1d899-927b-4bea-8b7c-c03ef0cd2647",
   "metadata": {},
   "source": [
    "### Calculating the Positional Attributes\n",
    "\n",
    "The Main tactic has:\n",
    "1. Sweeper Keeper (SU)\n",
    "2. Full back (AT)\n",
    "3. BPD (DE)\n",
    "4. IWB (SU)\n",
    "5. DM (SU)\n",
    "6. MEZ (SU)\n",
    "7. CM (AT)\n",
    "8. W - R (AT)\n",
    "9. IF - L (SU)\n",
    "10. PF (Su)"
   ]
  },
  {
   "cell_type": "markdown",
   "id": "d2c024aa-a5cd-49ad-81bf-925bf0b1f1ca",
   "metadata": {},
   "source": [
    "The Secondary tactic has:\n",
    "1. Sweeper Keeper (SU)\n",
    "2. Full back (DE)\n",
    "3. CD (DE)\n",
    "4. IWB (SU)\n",
    "5. DLP (SU)\n",
    "6. BBM (SU)\n",
    "7. AM (AT)\n",
    "8. W - R (AT)\n",
    "9. W - L (SU)\n",
    "10. AF (Su)"
   ]
  },
  {
   "cell_type": "code",
   "execution_count": null,
   "id": "408f7dad-3b15-49fb-a046-648a03a2d3cb",
   "metadata": {},
   "outputs": [],
   "source": [
    "# calculates Sweeper_keeper_Support score\n",
    "squad_df['sks_key'] = ( squad_df['Agi'] + squad_df['Ref'] )\n",
    "squad_df['sks_green'] = ( squad_df['Cmd'] + squad_df['Kic'] + squad_df['1v1'] + squad_df['Ant'] + squad_df['Cnt'] + squad_df['Pos'] )\n",
    "squad_df['sks_blue'] = ( squad_df['Aer'] + squad_df['Fir'] + squad_df['Han'] + squad_df['Pas'] + squad_df['TRO'] + squad_df['Dec'] + squad_df['Vis'] + squad_df['Acc'] )\n",
    "squad_df['sks'] =( ( ( squad_df['sks_key'] * 5) + (squad_df['sks_green'] * 3) + (squad_df['sks_blue'] * 1) ) / 36)\n",
    "squad_df.sks= squad_df.sks.round(1)\n",
    "\n",
    "# calculates Ball_playing_defender_Defend score\n",
    "squad_df['bpdd_key'] = ( squad_df['Acc'] + squad_df['Pac'] + squad_df['Jum'] + squad_df['Cmp'] )\n",
    "squad_df['bpdd_green'] = ( squad_df['Hea'] + squad_df['Mar'] + squad_df['Pas'] + squad_df['Tck'] + squad_df['Pos'] + squad_df['Str'] )\n",
    "squad_df['bpdd_blue'] = ( squad_df['Fir'] + squad_df['Tec'] + squad_df['Agg'] + squad_df['Ant'] + squad_df['Bra'] + squad_df['Cnt'] + squad_df['Dec'] + squad_df['Vis'] )\n",
    "squad_df['bpdd'] =( ( ( squad_df['bpdd_key'] * 5) + (squad_df['bpdd_green'] * 3) + (squad_df['bpdd_blue'] * 1) ) / 46)\n",
    "squad_df.bpdd= squad_df.bpdd.round(1)\n",
    "\n",
    "# calculates Central_defender_Defend score\n",
    "squad_df['cdd_key'] = ( squad_df['Acc'] + squad_df['Pac'] + squad_df['Jum'] + squad_df['Cmp'] )\n",
    "squad_df['cdd_green'] = ( squad_df['Hea'] + squad_df['Mar'] + squad_df['Tck'] + squad_df['Pos'] + squad_df['Str'] )\n",
    "squad_df['cdd_blue'] = ( squad_df['Agg'] + squad_df['Ant'] + squad_df['Bra'] + squad_df['Cnt'] + squad_df['Dec'] )\n",
    "squad_df['cdd'] =( ( ( squad_df['cdd_key'] * 5) + (squad_df['cdd_green'] * 3) + (squad_df['cdd_blue'] * 1) ) / 40)\n",
    "squad_df.cdd= squad_df.cdd.round(1)\n",
    "\n",
    "# calculates Full_back_Defend score\n",
    "squad_df['fbd_key'] = ( squad_df['Acc'] + squad_df['Pac'] + squad_df['Sta'] + squad_df['Wor'] )\n",
    "squad_df['fbd_green'] = ( squad_df['Mar'] + squad_df['Tck'] + squad_df['Ant'] + squad_df['Cnt'] + squad_df['Pos'] + squad_df['Pos'] )\n",
    "squad_df['fbd_blue'] = ( squad_df['Cro'] + squad_df['Pas'] + squad_df['Dec'] + squad_df['Tea'] )\n",
    "squad_df['fbd'] =( ( ( squad_df['fbd_key'] * 5) + (squad_df['fbd_green'] * 3) + (squad_df['fbd_blue'] * 1) ) / 42)\n",
    "squad_df.fbd= squad_df.fbd.round(1)\n",
    "\n",
    "# calculates Full_back_Attack score\n",
    "squad_df['fba_key'] = ( squad_df['Acc'] + squad_df['Pac'] + squad_df['Sta'] + squad_df['Wor'] )\n",
    "squad_df['fba_green'] = ( squad_df['Cro'] + squad_df['Mar'] + squad_df['Tck'] + squad_df['Ant'] + squad_df['Pos'] + squad_df['Tea'] )\n",
    "squad_df['fba_blue'] = ( squad_df['Dri'] + squad_df['Fir'] + squad_df['Pas'] + squad_df['Tec'] + squad_df['Cnt'] + squad_df['Dec'] + squad_df['OtB'] + squad_df['Agi'] )\n",
    "squad_df['fba'] =( ( ( squad_df['fba_key'] * 5) + (squad_df['fba_green'] * 3) + (squad_df['fba_blue'] * 1) ) / 46)\n",
    "squad_df.fba= squad_df.fba.round(1)\n",
    "\n",
    "\n",
    "# calculates Inverted_wing_back_Support score\n",
    "squad_df['iwbs_key'] = ( squad_df['Acc'] + squad_df['Pac'] + squad_df['Sta'] + squad_df['Wor'] )\n",
    "squad_df['iwbs_green'] = ( squad_df['Fir'] + squad_df['Pas'] + squad_df['Tck'] + squad_df['Cmp'] + squad_df['Dec'] + squad_df['Tea'] )\n",
    "squad_df['iwbs_blue'] = ( squad_df['Mar'] + squad_df['Tec'] + squad_df['Ant'] + squad_df['Cnt'] + squad_df['OtB'] + squad_df['Pos'] + squad_df['Vis'] + squad_df['Agi'] )\n",
    "squad_df['iwbs'] =( ( ( squad_df['iwbs_key'] * 5) + (squad_df['iwbs_green'] * 3) + (squad_df['iwbs_blue'] * 1) ) / 46)\n",
    "squad_df.iwbs= squad_df.iwbs.round(1)\n",
    "\n",
    "\n",
    "# calculates Box_to_box_midfielder_Support score\n",
    "squad_df['b2bs_key'] = ( squad_df['Acc'] + squad_df['Pac'] + squad_df['Sta'] + squad_df['Wor'] )\n",
    "squad_df['b2bs_green'] = ( squad_df['Pas'] + squad_df['Tck'] + squad_df['OtB'] + squad_df['Tea'] )\n",
    "squad_df['b2bs_blue'] = ( squad_df['Dri'] + squad_df['Fin'] + squad_df['Fir'] + squad_df['Lon'] + squad_df['Tec'] + squad_df['Agg'] + squad_df['Ant'] + squad_df['Cmp'] + squad_df['Dec'] + squad_df['Pos'] + squad_df['Bal'] + squad_df['Str'] )\n",
    "squad_df['b2bs'] =( ( ( squad_df['b2bs_key'] * 5) + (squad_df['b2bs_green'] * 3) + (squad_df['b2bs_blue'] * 1) ) / 44)\n",
    "squad_df.b2bs= squad_df.b2bs.round(1)\n",
    "\n",
    "# calculates Central_midfielder_Attack score\n",
    "squad_df['cma_key'] = ( squad_df['Acc'] + squad_df['Pac'] + squad_df['Sta'] + squad_df['Wor'] )\n",
    "squad_df['cma_green'] = ( squad_df['Fir'] + squad_df['Pas'] + squad_df['Dec'] + squad_df['OtB'] )\n",
    "squad_df['cma_blue'] = ( squad_df['Lon'] + squad_df['Tck'] + squad_df['Tec'] + squad_df['Ant'] + squad_df['Cmp'] + squad_df['Tea'] + squad_df['Vis'] )\n",
    "squad_df['cma'] =( ( ( squad_df['cma_key'] * 5) + (squad_df['cma_green'] * 3) + (squad_df['cma_blue'] * 1) ) / 39)\n",
    "squad_df.cma= squad_df.cma.round(1)\n",
    "\n",
    "# calculates Deep_lying_playmaker_Support score\n",
    "squad_df['dlps_key'] = ( squad_df['Wor'] + squad_df['Sta'] + squad_df['Acc'] + squad_df['Pac'] )\n",
    "squad_df['dlps_green'] = ( squad_df['Fir'] + squad_df['Pas'] + squad_df['Tec'] + squad_df['Cmp'] + squad_df['Dec'] + squad_df['Tea'] + squad_df['Vis'] )\n",
    "squad_df['dlps_blue'] = ( squad_df['Ant'] + squad_df['OtB'] + squad_df['Pos'] + squad_df['Bal'] )\n",
    "squad_df['dlps'] =( ( ( squad_df['dlps_key'] * 5) + (squad_df['dlps_green'] * 3) + (squad_df['dlps_blue'] * 1) ) / 45)\n",
    "squad_df.dlps= squad_df.dlps.round(1)\n",
    "\n",
    "# calculates Defensive_midfielder_Defend score\n",
    "squad_df['dmd_key'] = ( squad_df['Wor'] + squad_df['Sta'] + squad_df['Acc'] + squad_df['Pac'] )\n",
    "squad_df['dmd_green'] = ( squad_df['Tck'] + squad_df['Ant'] + squad_df['Cnt'] + squad_df['Pos'] + squad_df['Tea'] )\n",
    "squad_df['dmd_blue'] = ( squad_df['Mar'] + squad_df['Pas'] + squad_df['Agg'] + squad_df['Cmp'] + squad_df['Str'] + squad_df['Dec'] )\n",
    "squad_df['dmd'] =( ( ( squad_df['dmd_key'] * 5) + (squad_df['dmd_green'] * 3) + (squad_df['dmd_blue'] * 1) ) / 41)\n",
    "squad_df.dmd= squad_df.dmd.round(1)\n",
    "\n",
    "# calculates Inside_forward_Support score\n",
    "squad_df['ifs_key'] = ( squad_df['Acc'] + squad_df['Pac'] + squad_df['Sta'] + squad_df['Wor'] )\n",
    "squad_df['ifs_green'] = ( squad_df['Dri'] + squad_df['Fin'] + squad_df['Fir'] + squad_df['Tec'] + squad_df['OtB'] + squad_df['Agi'] )\n",
    "squad_df['ifs_blue'] = ( squad_df['Lon'] + squad_df['Pas'] + squad_df['Ant'] + squad_df['Cmp'] + squad_df['Fla'] + squad_df['Vis'] + squad_df['Bal'] )\n",
    "squad_df['ifs'] =( ( ( squad_df['ifs_key'] * 5) + (squad_df['ifs_green'] * 3) + (squad_df['ifs_blue'] * 1) ) / 45)\n",
    "squad_df.ifs= squad_df.ifs.round(1)\n",
    "\n",
    "# calculates Mezzala_Support score\n",
    "squad_df['mezs_key'] = ( squad_df['Acc'] + squad_df['Pac'] + squad_df['Sta'] + squad_df['Wor'] )\n",
    "squad_df['mezs_green'] = ( squad_df['Pas'] + squad_df['Tec'] + squad_df['Dec'] + squad_df['OtB'] )\n",
    "squad_df['mezs_blue'] = ( squad_df['Dri'] + squad_df['Fir'] + squad_df['Lon'] + squad_df['Tck'] + squad_df['Ant'] + squad_df['Cmp'] + squad_df['Vis'] + squad_df['Bal'] )\n",
    "squad_df['mezs'] =( ( ( squad_df['mezs_key'] * 5) + (squad_df['mezs_green'] * 3) + (squad_df['mezs_blue'] * 1) ) / 40)\n",
    "squad_df.mezs= squad_df.mezs.round(1)\n",
    "\n",
    "# calculates Advanced_forward_Attack score\n",
    "squad_df['afa_key'] = ( squad_df['Acc'] + squad_df['Pac'] + squad_df['Fin'] )\n",
    "squad_df['afa_green'] = ( squad_df['Dri'] + squad_df['Fir'] + squad_df['Tec'] + squad_df['Cmp'] + squad_df['OtB'] )\n",
    "squad_df['afa_blue'] = ( squad_df['Pas'] + squad_df['Ant'] + squad_df['Dec'] + squad_df['Wor'] + squad_df['Agi'] + squad_df['Bal'] + squad_df['Sta'] )\n",
    "squad_df['afa'] =( ( ( squad_df['afa_key'] * 5) + (squad_df['afa_green'] * 3) + (squad_df['afa_blue'] * 1) ) / 37)\n",
    "squad_df.afa= squad_df.afa.round(1)\n",
    "\n",
    "# calculates Pressing_forward_Support score\n",
    "squad_df['pfs_key'] = ( squad_df['Acc'] + squad_df['Pac'] + squad_df['Fin'] )\n",
    "squad_df['pfs_green'] = ( squad_df['Agg'] + squad_df['Ant'] + squad_df['Bra'] + squad_df['Dec'] + squad_df['Tea'] + squad_df['Wor'] + squad_df['Sta'] )\n",
    "squad_df['pfs_blue'] = ( squad_df['Fir'] + squad_df['Pas'] + squad_df['Cmp'] + squad_df['Cnt'] + squad_df['OtB'] + squad_df['Agi'] + squad_df['Bal'] + squad_df['Str'] )\n",
    "squad_df['pfs'] =( ( ( squad_df['pfs_key'] * 5) + (squad_df['pfs_green'] * 3) + (squad_df['pfs_blue'] * 1) ) / 44)\n",
    "squad_df.pfs= squad_df.pfs.round(1)\n",
    "\n",
    "# calculates Pressing_forward_Attack score\n",
    "squad_df['pfa_key'] = ( squad_df['Acc'] + squad_df['Pac'] + squad_df['Fin'] )\n",
    "squad_df['pfa_green'] = ( squad_df['Agg'] + squad_df['Ant'] + squad_df['Bra'] + squad_df['OtB'] + squad_df['Tea'] + squad_df['Wor'] + squad_df['Sta'] )\n",
    "squad_df['pfa_blue'] = ( squad_df['Fir'] + squad_df['Cmp'] + squad_df['Cnt'] + squad_df['Dec'] + squad_df['Agi'] + squad_df['Bal'] + squad_df['Str'] )\n",
    "squad_df['pfa'] =( ( ( squad_df['pfa_key'] * 5) + (squad_df['pfa_green'] * 3) + (squad_df['pfa_blue'] * 1) ) / 43)\n",
    "squad_df.pfa= squad_df.pfa.round(1)\n",
    "\n",
    "# calculates Winger_Support score\n",
    "squad_df['ws_key'] = ( squad_df['Acc'] + squad_df['Pac'] + squad_df['Sta'] + squad_df['Wor'] )\n",
    "squad_df['ws_green'] = ( squad_df['Cro'] + squad_df['Dri'] + squad_df['Tec'] + squad_df['Agi'] )\n",
    "squad_df['ws_blue'] = ( squad_df['Fir'] + squad_df['Pas'] + squad_df['OtB'] + squad_df['Bal'] )\n",
    "squad_df['ws'] =( ( ( squad_df['ws_key'] * 5) + (squad_df['ws_green'] * 3) + (squad_df['ws_blue'] * 1) ) / 36)\n",
    "squad_df.ws= squad_df.ws.round(1)\n",
    "\n",
    "# calculates Winger_Attack score\n",
    "squad_df['wa_key'] = ( squad_df['Acc'] + squad_df['Pac'] + squad_df['Sta'] + squad_df['Wor'] )\n",
    "squad_df['wa_green'] = ( squad_df['Cro'] + squad_df['Dri'] + squad_df['Tec'] + squad_df['Agi'] )\n",
    "squad_df['wa_blue'] = ( squad_df['Fir'] + squad_df['Pas'] + squad_df['Ant'] + squad_df['Fla'] + squad_df['OtB'] + squad_df['Bal'] )\n",
    "squad_df['wa'] =( ( ( squad_df['wa_key'] * 5) + (squad_df['wa_green'] * 3) + (squad_df['wa_blue'] * 1) ) / 38)\n",
    "squad_df.wa= squad_df.wa.round(1)"
   ]
  },
  {
   "cell_type": "markdown",
   "id": "4d83a077-3ea1-49e0-9008-a7282ddd8dc2",
   "metadata": {},
   "source": [
    "### Plotting Ball Playing Defender"
   ]
  },
  {
   "cell_type": "code",
   "execution_count": null,
   "id": "bc91349a-de5b-4f9b-bdd2-a7ca2197da6d",
   "metadata": {},
   "outputs": [],
   "source": [
    "central_defender_filter = (squad_df['Position'].apply(lambda x: 'D (C)' in x) | squad_df['Position'].apply(lambda x: 'D (RC)' in x) | squad_df['Position'].apply(lambda x: 'D (LC)' in x))"
   ]
  },
  {
   "cell_type": "code",
   "execution_count": null,
   "id": "0f0634d3-aef2-4844-9d9f-4a3ef02b8f06",
   "metadata": {},
   "outputs": [],
   "source": [
    "central_defenders_df = squad_df[central_defender_filter]"
   ]
  },
  {
   "cell_type": "code",
   "execution_count": null,
   "id": "f86bdd66-7329-4925-a48c-f1a7d67074f7",
   "metadata": {},
   "outputs": [],
   "source": [
    "central_defenders_df[['Name','Preferred Foot', 'dna_score' ,'bpdd']].sort_values(by=['bpdd', 'dna_score'], ascending=False)"
   ]
  },
  {
   "cell_type": "markdown",
   "id": "a0ef2ade-114c-415f-a80a-d633f267424c",
   "metadata": {},
   "source": [
    "### Plotting Full backs"
   ]
  },
  {
   "cell_type": "code",
   "execution_count": null,
   "id": "692aa890-8d6d-4096-824d-21294e61151e",
   "metadata": {},
   "outputs": [],
   "source": [
    "squad_df[['Name','Preferred Foot', 'dna_score' ,'fba']].sort_values(by=['fba', 'dna_score'], ascending=False)"
   ]
  },
  {
   "cell_type": "markdown",
   "id": "986e6513-9c90-4674-8925-eaf548fd1e68",
   "metadata": {},
   "source": [
    "### Plotting Inverted Wing backs"
   ]
  },
  {
   "cell_type": "code",
   "execution_count": null,
   "id": "e2d954d0-9b2d-44d7-8078-adc99ebc0dec",
   "metadata": {},
   "outputs": [],
   "source": [
    "squad_df[['Name','Preferred Foot', 'dna_score' ,'iwbs']].sort_values(by=['iwbs', 'dna_score'], ascending=False)"
   ]
  },
  {
   "cell_type": "code",
   "execution_count": null,
   "id": "c80acfd5-7fba-413e-8a51-960cc191e2c6",
   "metadata": {},
   "outputs": [],
   "source": []
  }
 ],
 "metadata": {
  "kernelspec": {
   "display_name": "Python 3 (ipykernel)",
   "language": "python",
   "name": "python3"
  },
  "language_info": {
   "codemirror_mode": {
    "name": "ipython",
    "version": 3
   },
   "file_extension": ".py",
   "mimetype": "text/x-python",
   "name": "python",
   "nbconvert_exporter": "python",
   "pygments_lexer": "ipython3",
   "version": "3.10.11"
  }
 },
 "nbformat": 4,
 "nbformat_minor": 5
}
